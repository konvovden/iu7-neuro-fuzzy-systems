{
 "cells": [
  {
   "cell_type": "markdown",
   "metadata": {},
   "source": [
    "Лабораторная работа №4"
   ]
  },
  {
   "cell_type": "code",
   "execution_count": 1,
   "metadata": {},
   "outputs": [
    {
     "name": "stdout",
     "output_type": "stream",
     "text": [
      "Requirement already satisfied: pandas in c:\\users\\root\\appdata\\local\\programs\\python\\python311\\lib\\site-packages (1.5.2)\n",
      "Requirement already satisfied: python-dateutil>=2.8.1 in c:\\users\\root\\appdata\\local\\programs\\python\\python311\\lib\\site-packages (from pandas) (2.8.2)\n",
      "Requirement already satisfied: pytz>=2020.1 in c:\\users\\root\\appdata\\local\\programs\\python\\python311\\lib\\site-packages (from pandas) (2022.7)\n",
      "Requirement already satisfied: numpy>=1.21.0 in c:\\users\\root\\appdata\\local\\programs\\python\\python311\\lib\\site-packages (from pandas) (1.25.2)\n",
      "Requirement already satisfied: six>=1.5 in c:\\users\\root\\appdata\\local\\programs\\python\\python311\\lib\\site-packages (from python-dateutil>=2.8.1->pandas) (1.16.0)\n",
      "Note: you may need to restart the kernel to use updated packages.\n"
     ]
    },
    {
     "name": "stderr",
     "output_type": "stream",
     "text": [
      "\n",
      "[notice] A new release of pip available: 22.3 -> 24.0\n",
      "[notice] To update, run: python.exe -m pip install --upgrade pip\n"
     ]
    },
    {
     "name": "stdout",
     "output_type": "stream",
     "text": [
      "Requirement already satisfied: scikit-learn in c:\\users\\root\\appdata\\local\\programs\\python\\python311\\lib\\site-packages (1.4.1.post1)\n",
      "Requirement already satisfied: numpy<2.0,>=1.19.5 in c:\\users\\root\\appdata\\local\\programs\\python\\python311\\lib\\site-packages (from scikit-learn) (1.25.2)\n",
      "Requirement already satisfied: scipy>=1.6.0 in c:\\users\\root\\appdata\\local\\programs\\python\\python311\\lib\\site-packages (from scikit-learn) (1.9.3)\n",
      "Requirement already satisfied: joblib>=1.2.0 in c:\\users\\root\\appdata\\local\\programs\\python\\python311\\lib\\site-packages (from scikit-learn) (1.2.0)\n",
      "Requirement already satisfied: threadpoolctl>=2.0.0 in c:\\users\\root\\appdata\\local\\programs\\python\\python311\\lib\\site-packages (from scikit-learn) (3.4.0)\n",
      "Note: you may need to restart the kernel to use updated packages.\n"
     ]
    },
    {
     "name": "stderr",
     "output_type": "stream",
     "text": [
      "\n",
      "[notice] A new release of pip available: 22.3 -> 24.0\n",
      "[notice] To update, run: python.exe -m pip install --upgrade pip\n"
     ]
    }
   ],
   "source": [
    "%pip install pandas\n",
    "%pip install scikit-learn"
   ]
  },
  {
   "cell_type": "code",
   "execution_count": 2,
   "metadata": {},
   "outputs": [],
   "source": [
    "import pandas as pd\n",
    "from sklearn.model_selection import train_test_split\n",
    "import numpy as np\n",
    "import matplotlib.pyplot as plt\n",
    "from sklearn.preprocessing import StandardScaler\n",
    "import seaborn as sns\n",
    "from kneed import KneeLocator\n",
    "from collections import Counter\n",
    "from sklearn.neighbors import KNeighborsClassifier\n",
    "from sklearn.metrics import *\n",
    "from sklearn.model_selection import *\n",
    "from sklearn import preprocessing\n",
    "from sklearn.ensemble import RandomForestClassifier\n",
    "from sklearn.model_selection import cross_validate\n",
    "from sklearn.neural_network import MLPClassifier"
   ]
  },
  {
   "cell_type": "code",
   "execution_count": 3,
   "metadata": {},
   "outputs": [],
   "source": [
    "import warnings\n",
    "warnings.filterwarnings('ignore')"
   ]
  },
  {
   "cell_type": "markdown",
   "metadata": {},
   "source": [
    "Подготовка данных"
   ]
  },
  {
   "cell_type": "code",
   "execution_count": 4,
   "metadata": {},
   "outputs": [
    {
     "data": {
      "text/html": [
       "<div>\n",
       "<style scoped>\n",
       "    .dataframe tbody tr th:only-of-type {\n",
       "        vertical-align: middle;\n",
       "    }\n",
       "\n",
       "    .dataframe tbody tr th {\n",
       "        vertical-align: top;\n",
       "    }\n",
       "\n",
       "    .dataframe thead th {\n",
       "        text-align: right;\n",
       "    }\n",
       "</style>\n",
       "<table border=\"1\" class=\"dataframe\">\n",
       "  <thead>\n",
       "    <tr style=\"text-align: right;\">\n",
       "      <th></th>\n",
       "      <th>Size</th>\n",
       "      <th>Weight</th>\n",
       "      <th>Sweetness</th>\n",
       "      <th>Softness</th>\n",
       "      <th>HarvestTime</th>\n",
       "      <th>Ripeness</th>\n",
       "      <th>Acidity</th>\n",
       "      <th>Quality</th>\n",
       "    </tr>\n",
       "  </thead>\n",
       "  <tbody>\n",
       "    <tr>\n",
       "      <th>0</th>\n",
       "      <td>-1.924968</td>\n",
       "      <td>0.468078</td>\n",
       "      <td>3.077832</td>\n",
       "      <td>-1.472177</td>\n",
       "      <td>0.294799</td>\n",
       "      <td>2.435570</td>\n",
       "      <td>0.271290</td>\n",
       "      <td>Good</td>\n",
       "    </tr>\n",
       "    <tr>\n",
       "      <th>1</th>\n",
       "      <td>-2.409751</td>\n",
       "      <td>0.486870</td>\n",
       "      <td>0.346921</td>\n",
       "      <td>-2.495099</td>\n",
       "      <td>-0.892213</td>\n",
       "      <td>2.067549</td>\n",
       "      <td>0.307325</td>\n",
       "      <td>Good</td>\n",
       "    </tr>\n",
       "    <tr>\n",
       "      <th>2</th>\n",
       "      <td>-0.357607</td>\n",
       "      <td>1.483176</td>\n",
       "      <td>1.568452</td>\n",
       "      <td>-2.645145</td>\n",
       "      <td>-0.647267</td>\n",
       "      <td>3.090643</td>\n",
       "      <td>1.427322</td>\n",
       "      <td>Good</td>\n",
       "    </tr>\n",
       "    <tr>\n",
       "      <th>3</th>\n",
       "      <td>-0.868524</td>\n",
       "      <td>1.566201</td>\n",
       "      <td>1.889605</td>\n",
       "      <td>-1.273761</td>\n",
       "      <td>-1.006278</td>\n",
       "      <td>1.873001</td>\n",
       "      <td>0.477862</td>\n",
       "      <td>Good</td>\n",
       "    </tr>\n",
       "    <tr>\n",
       "      <th>4</th>\n",
       "      <td>0.651825</td>\n",
       "      <td>1.319199</td>\n",
       "      <td>-0.022459</td>\n",
       "      <td>-1.209709</td>\n",
       "      <td>-1.430692</td>\n",
       "      <td>1.078345</td>\n",
       "      <td>2.812442</td>\n",
       "      <td>Good</td>\n",
       "    </tr>\n",
       "  </tbody>\n",
       "</table>\n",
       "</div>"
      ],
      "text/plain": [
       "       Size    Weight  Sweetness  Softness  HarvestTime  Ripeness   Acidity  \\\n",
       "0 -1.924968  0.468078   3.077832 -1.472177     0.294799  2.435570  0.271290   \n",
       "1 -2.409751  0.486870   0.346921 -2.495099    -0.892213  2.067549  0.307325   \n",
       "2 -0.357607  1.483176   1.568452 -2.645145    -0.647267  3.090643  1.427322   \n",
       "3 -0.868524  1.566201   1.889605 -1.273761    -1.006278  1.873001  0.477862   \n",
       "4  0.651825  1.319199  -0.022459 -1.209709    -1.430692  1.078345  2.812442   \n",
       "\n",
       "  Quality  \n",
       "0    Good  \n",
       "1    Good  \n",
       "2    Good  \n",
       "3    Good  \n",
       "4    Good  "
      ]
     },
     "execution_count": 4,
     "metadata": {},
     "output_type": "execute_result"
    }
   ],
   "source": [
    "df = pd.read_csv('dataset.csv')\n",
    "df.head()"
   ]
  },
  {
   "cell_type": "code",
   "execution_count": 5,
   "metadata": {},
   "outputs": [],
   "source": [
    "x = df.drop(['Quality'], axis=1)\n",
    "y = df['Quality'].values"
   ]
  },
  {
   "cell_type": "code",
   "execution_count": 6,
   "metadata": {},
   "outputs": [],
   "source": [
    "X_train, X_test, Y_train, Y_test = train_test_split(x, y, test_size = 0.2, random_state=55)"
   ]
  },
  {
   "cell_type": "code",
   "execution_count": 7,
   "metadata": {},
   "outputs": [],
   "source": [
    "scaler = StandardScaler()\n",
    "X_train = scaler.fit_transform(X_train)\n",
    "X_test = scaler.fit_transform(X_test)"
   ]
  },
  {
   "cell_type": "code",
   "execution_count": 8,
   "metadata": {},
   "outputs": [],
   "source": [
    "labelEncoder = preprocessing.LabelEncoder()\n",
    "Y_train = labelEncoder.fit_transform(Y_train)\n",
    "Y_test = labelEncoder.fit_transform(Y_test)"
   ]
  },
  {
   "cell_type": "markdown",
   "metadata": {},
   "source": [
    "# Подбор параметров"
   ]
  },
  {
   "cell_type": "code",
   "execution_count": 9,
   "metadata": {},
   "outputs": [
    {
     "name": "stdout",
     "output_type": "stream",
     "text": [
      "50 layer size: 0.9628125 | 0.93\n",
      "100 layer size: 0.969375 | 0.9193749999999999\n",
      "150 layer size: 0.97125 | 0.9200000000000002\n",
      "200 layer size: 0.97125 | 0.9275\n",
      "250 layer size: 0.97125 | 0.9487500000000001\n",
      "300 layer size: 0.9684375 | 0.946875\n",
      "350 layer size: 0.97953125 | 0.953125\n",
      "400 layer size: 0.9678125 | 0.95375\n",
      "450 layer size: 0.97484375 | 0.9106249999999999\n",
      "500 layer size: 0.98015625 | 0.9349999999999999\n",
      "550 layer size: 0.9696875 | 0.9512500000000002\n",
      "600 layer size: 0.969375 | 0.9525\n",
      "650 layer size: 0.97265625 | 0.9524999999999999\n",
      "700 layer size: 0.98296875 | 0.9525\n",
      "750 layer size: 0.9809375 | 0.951875\n",
      "800 layer size: 0.9809375 | 0.9568749999999999\n",
      "850 layer size: 0.97578125 | 0.9425000000000001\n",
      "900 layer size: 0.974375 | 0.9481250000000001\n",
      "950 layer size: 0.97515625 | 0.954375\n",
      "1000 layer size: 0.985 | 0.9481249999999999\n"
     ]
    }
   ],
   "source": [
    "layerSizes = range(50, 1001, 50)\n",
    "\n",
    "train_scores = []\n",
    "test_scores = []\n",
    "\n",
    "for layerSize in layerSizes:\n",
    "    mlp = MLPClassifier(hidden_layer_sizes=layerSize, early_stopping=True, random_state=55)\n",
    "    mlp.fit(X_train, Y_train)\n",
    "\n",
    "    train_score = mlp.score(X_train, Y_train)\n",
    "    test_score = cross_val_score(mlp, X_test, Y_test).mean()\n",
    "\n",
    "    train_scores.append(train_score)\n",
    "    test_scores.append(test_score)\n",
    "\n",
    "    print(str(layerSize) + ' layer size: ' + str(train_score) + ' | ' + str(test_score))"
   ]
  },
  {
   "cell_type": "code",
   "execution_count": 10,
   "metadata": {},
   "outputs": [
    {
     "data": {
      "image/png": "[encoded data removed]",
      "text/plain": [
       "<Figure size 640x480 with 1 Axes>"
      ]
     },
     "metadata": {},
     "output_type": "display_data"
    }
   ],
   "source": [
    "params = layerSizes\n",
    "plt.plot(params, train_scores, label='train curve')\n",
    "plt.plot(params, test_scores, label='test curve')\n",
    "plt.xlabel(\"layer size\")\n",
    "plt.ylabel(\"Accuracy\")\n",
    "plt.title('Hyper-parameter VS accuracy plot')\n",
    "plt.legend()\n",
    "plt.show()"
   ]
  },
  {
   "cell_type": "code",
   "execution_count": 11,
   "metadata": {},
   "outputs": [],
   "source": [
    "layerSize = 800"
   ]
  },
  {
   "cell_type": "code",
   "execution_count": 12,
   "metadata": {},
   "outputs": [
    {
     "name": "stdout",
     "output_type": "stream",
     "text": [
      "Solver lbfgs: 1.0 | 0.9662499999999999\n",
      "Solver sgd: 0.92578125 | 0.889375\n",
      "Solver adam: 0.9809375 | 0.9568749999999999\n"
     ]
    }
   ],
   "source": [
    "# 'lbfgs' is an optimizer in the family of quasi-Newton methods.\n",
    "# 'sgd' refers to stochastic gradient descent.\n",
    "# 'adam' refers to a stochastic gradient-based optimizer proposed by Kingma, Diederik, and Jimmy Ba\n",
    "solvers = ['lbfgs', 'sgd', 'adam']\n",
    "\n",
    "train_scores = []\n",
    "test_scores = []\n",
    "\n",
    "for solver in solvers:\n",
    "    mlp = MLPClassifier(hidden_layer_sizes=layerSize, early_stopping=True, random_state=55, solver=solver)\n",
    "    mlp.fit(X_train, Y_train)\n",
    "\n",
    "    train_score = mlp.score(X_train, Y_train)\n",
    "    test_score = cross_val_score(mlp, X_test, Y_test).mean()\n",
    "\n",
    "    train_scores.append(train_score)\n",
    "    test_scores.append(test_score)\n",
    "\n",
    "    print('Solver ' + solver + ': ' + str(train_score) + ' | ' + str(test_score))"
   ]
  },
  {
   "cell_type": "code",
   "execution_count": 13,
   "metadata": {},
   "outputs": [],
   "source": [
    "solver = 'lbfgs'"
   ]
  },
  {
   "cell_type": "code",
   "execution_count": 14,
   "metadata": {},
   "outputs": [
    {
     "name": "stdout",
     "output_type": "stream",
     "text": [
      "Activator identity: 0.87734375 | 0.8793749999999999\n",
      "Activator logistic: 0.87703125 | 0.8806249999999999\n",
      "Activator tanh: 1.0 | 0.96875\n",
      "Activator relu: 1.0 | 0.9662499999999999\n"
     ]
    }
   ],
   "source": [
    "# 'identity', no-op activation, useful to implement linear bottleneck, returns f(x) = x\n",
    "# 'logistic', the logistic sigmoid function, returns f(x) = 1 / (1 + exp(-x)).\n",
    "# 'tanh', the hyperbolic tan function, returns f(x) = tanh(x).\n",
    "# 'relu', the rectified linear unit function, returns f(x) = max(0, x)\n",
    "activators = ['identity', 'logistic', 'tanh', 'relu']\n",
    "\n",
    "train_scores = []\n",
    "test_scores = []\n",
    "\n",
    "for activator in activators:\n",
    "    mlp = MLPClassifier(hidden_layer_sizes=layerSize, early_stopping=True, random_state=55, solver=solver, activation=activator)\n",
    "    mlp.fit(X_train, Y_train)\n",
    "\n",
    "    train_score = mlp.score(X_train, Y_train)\n",
    "    test_score = cross_val_score(mlp, X_test, Y_test).mean()\n",
    "\n",
    "    train_scores.append(train_score)\n",
    "    test_scores.append(test_score)\n",
    "\n",
    "    print('Activator ' + activator + ': ' + str(train_score) + ' | ' + str(test_score))"
   ]
  },
  {
   "cell_type": "code",
   "execution_count": 15,
   "metadata": {},
   "outputs": [],
   "source": [
    "activator = 'tanh'"
   ]
  },
  {
   "cell_type": "code",
   "execution_count": 16,
   "metadata": {},
   "outputs": [
    {
     "name": "stdout",
     "output_type": "stream",
     "text": [
      "100 iterations: 0.9909375 | 0.96875\n",
      "200 iterations: 1.0 | 0.96875\n",
      "300 iterations: 1.0 | 0.96875\n",
      "400 iterations: 1.0 | 0.96875\n",
      "500 iterations: 1.0 | 0.96875\n",
      "600 iterations: 1.0 | 0.96875\n",
      "700 iterations: 1.0 | 0.96875\n",
      "800 iterations: 1.0 | 0.96875\n",
      "900 iterations: 1.0 | 0.96875\n",
      "1000 iterations: 1.0 | 0.96875\n"
     ]
    }
   ],
   "source": [
    "iterations = range(100, 501, 100)\n",
    "\n",
    "train_scores = []\n",
    "test_scores = []\n",
    "\n",
    "for iteration in iterations:\n",
    "    mlp = MLPClassifier(hidden_layer_sizes=layerSize, early_stopping=True, random_state=55, solver=solver, activation=activator, max_iter=iteration)\n",
    "    mlp.fit(X_train, Y_train)\n",
    "\n",
    "    train_score = mlp.score(X_train, Y_train)\n",
    "    test_score = cross_val_score(mlp, X_test, Y_test).mean()\n",
    "\n",
    "    train_scores.append(train_score)\n",
    "    test_scores.append(test_score)\n",
    "\n",
    "    print(str(iteration) + ' iterations: ' + str(train_score) + ' | ' + str(test_score))"
   ]
  },
  {
   "cell_type": "code",
   "execution_count": 17,
   "metadata": {},
   "outputs": [
    {
     "data": {
      "image/png": "[encoded data removed]",
      "text/plain": [
       "<Figure size 640x480 with 1 Axes>"
      ]
     },
     "metadata": {},
     "output_type": "display_data"
    }
   ],
   "source": [
    "params = iterations\n",
    "plt.plot(params, train_scores, label='train curve')\n",
    "plt.plot(params, test_scores, label='test curve')\n",
    "plt.xlabel(\"max_iter\")\n",
    "plt.ylabel(\"Accuracy\")\n",
    "plt.title('Hyper-parameter VS accuracy plot')\n",
    "plt.legend()\n",
    "plt.show()"
   ]
  },
  {
   "cell_type": "code",
   "execution_count": 18,
   "metadata": {},
   "outputs": [],
   "source": [
    "iteration = 200"
   ]
  },
  {
   "cell_type": "markdown",
   "metadata": {},
   "source": [
    "# Итог"
   ]
  },
  {
   "cell_type": "code",
   "execution_count": 19,
   "metadata": {},
   "outputs": [
    {
     "name": "stdout",
     "output_type": "stream",
     "text": [
      "              precision    recall  f1-score   support\n",
      "\n",
      "           0       0.97      0.97      0.97       749\n",
      "           1       0.98      0.97      0.98       851\n",
      "\n",
      "    accuracy                           0.97      1600\n",
      "   macro avg       0.97      0.97      0.97      1600\n",
      "weighted avg       0.97      0.97      0.97      1600\n",
      "\n"
     ]
    },
    {
     "data": {
      "image/png": "[encoded data removed]",
      "text/plain": [
       "<Figure size 640x480 with 2 Axes>"
      ]
     },
     "metadata": {},
     "output_type": "display_data"
    }
   ],
   "source": [
    "mlp = MLPClassifier(hidden_layer_sizes=layerSize, early_stopping=True, random_state=55, solver=solver, activation=activator, max_iter=iteration)\n",
    "mlp.fit(X_train, Y_train)\n",
    "\n",
    "Y_predict = mlp.predict(X_test)\n",
    "\n",
    "cm = pd.DataFrame(confusion_matrix(Y_test, Y_predict))\n",
    "sns.heatmap(cm, annot=True, fmt='d')\n",
    "print(classification_report(Y_test, Y_predict))"
   ]
  }
 ],
 "metadata": {
  "kernelspec": {
   "display_name": "Python 3",
   "language": "python",
   "name": "python3"
  },
  "language_info": {
   "codemirror_mode": {
    "name": "ipython",
    "version": 3
   },
   "file_extension": ".py",
   "mimetype": "text/x-python",
   "name": "python",
   "nbconvert_exporter": "python",
   "pygments_lexer": "ipython3",
   "version": "3.11.0"
  }
 },
 "nbformat": 4,
 "nbformat_minor": 2
}
